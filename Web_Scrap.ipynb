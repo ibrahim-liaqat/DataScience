{
 "cells": [
  {
   "cell_type": "code",
   "execution_count": null,
   "metadata": {
    "vscode": {
     "languageId": "plaintext"
    }
   },
   "outputs": [],
   "source": [
    "import os\n",
    "import requests\n",
    "from bs4 import BeautifulSoup\n",
    "\n",
    "# Base URL for NeurIPS proceedings\n",
    "years = [2024, 2023, 2022]\n",
    "base_url = \"https://papers.nips.cc/paper_files/paper/{}\"\n",
    "\n",
    "# Headers to mimic a browser\n",
    "headers = {\n",
    "    \"User-Agent\": \"Mozilla/5.0 (Windows NT 10.0; Win64; x64) AppleWebKit/537.36 (KHTML, like Gecko) Chrome/91.0.4472.124 Safari/537.36\"\n",
    "}\n",
    "\n",
    "# Directory to save PDFs\n",
    "pdf_dir = \"neurips_papers\"\n",
    "os.makedirs(pdf_dir, exist_ok=True)\n",
    "\n",
    "def download_pdfs(year):\n",
    "    url = base_url.format(year)\n",
    "    response = requests.get(url, headers=headers, allow_redirects=True)\n",
    "    if response.status_code != 200:\n",
    "        print(f\"Failed to retrieve {url}\")\n",
    "        return\n",
    "    \n",
    "    soup = BeautifulSoup(response.text, 'html.parser')\n",
    "    paper_links = [a['href'] for a in soup.find_all('a', href=True) if \"/paper/\" in a['href']]\n",
    "    \n",
    "    for paper_link in paper_links:\n",
    "        paper_page_url = f\"https://papers.nips.cc{paper_link}\"\n",
    "        paper_response = requests.get(paper_page_url, headers=headers)\n",
    "        \n",
    "        if paper_response.status_code != 200:\n",
    "            print(f\"Failed to retrieve {paper_page_url}\")\n",
    "            continue\n",
    "        \n",
    "        paper_soup = BeautifulSoup(paper_response.text, 'html.parser')\n",
    "        pdf_link = paper_soup.find('a', href=True, text=\"Paper\")\n",
    "        \n",
    "        if pdf_link:\n",
    "            pdf_url = f\"https://papers.nips.cc{pdf_link['href']}\"\n",
    "            pdf_name = pdf_url.split('/')[-1]\n",
    "            pdf_path = os.path.join(pdf_dir, pdf_name)\n",
    "            \n",
    "            print(f\"Downloading {pdf_name}...\")\n",
    "            pdf_response = requests.get(pdf_url, headers=headers, allow_redirects=True)\n",
    "            \n",
    "            if pdf_response.status_code == 200:\n",
    "                with open(pdf_path, 'wb') as pdf_file:\n",
    "                    pdf_file.write(pdf_response.content)\n",
    "                print(f\"Saved: {pdf_path}\")\n",
    "            else:\n",
    "                print(f\"Failed to download {pdf_name}\")\n",
    "\n",
    "# Loop through specified years\n",
    "for year in years:\n",
    "    print(f\"Fetching papers for {year}...\")\n",
    "    download_pdfs(year)\n",
    "\n",
    "print(\"Download complete.\")"
   ]
  }
 ],
 "metadata": {
  "language_info": {
   "name": "python"
  }
 },
 "nbformat": 4,
 "nbformat_minor": 2
}
